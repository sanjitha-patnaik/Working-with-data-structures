{
 "cells": [
  {
   "cell_type": "markdown",
   "id": "2dd8401b",
   "metadata": {},
   "source": [
    "DATA STRUCTURES IN PYTHON"
   ]
  },
  {
   "cell_type": "code",
   "execution_count": 2,
   "id": "4ba9fd37",
   "metadata": {},
   "outputs": [
    {
     "name": "stdout",
     "output_type": "stream",
     "text": [
      "{0, 1, 2, 3, 4, 5, 6, 8}\n",
      "{2, 4}\n",
      "{0, 8, 6}\n",
      "{0, 1, 3, 5, 6, 8}\n"
     ]
    }
   ],
   "source": [
    "E = {0,2,4,6,8}\n",
    "N = {1,2,3,4,5}\n",
    "print(E|N)\n",
    "print(E & N)\n",
    "print(E - N)\n",
    "print(E ^ N)\n"
   ]
  },
  {
   "cell_type": "code",
   "execution_count": null,
   "id": "3c9ddd96",
   "metadata": {},
   "outputs": [],
   "source": []
  }
 ],
 "metadata": {
  "kernelspec": {
   "display_name": "Python 3 (ipykernel)",
   "language": "python",
   "name": "python3"
  },
  "language_info": {
   "codemirror_mode": {
    "name": "ipython",
    "version": 3
   },
   "file_extension": ".py",
   "mimetype": "text/x-python",
   "name": "python",
   "nbconvert_exporter": "python",
   "pygments_lexer": "ipython3",
   "version": "3.9.7"
  }
 },
 "nbformat": 4,
 "nbformat_minor": 5
}
